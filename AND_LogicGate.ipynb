{
  "nbformat": 4,
  "nbformat_minor": 0,
  "metadata": {
    "colab": {
      "provenance": [],
      "authorship_tag": "ABX9TyO+oQ93PU1aZqJLH5GLZNqX",
      "include_colab_link": true
    },
    "kernelspec": {
      "name": "python3",
      "display_name": "Python 3"
    },
    "language_info": {
      "name": "python"
    }
  },
  "cells": [
    {
      "cell_type": "markdown",
      "metadata": {
        "id": "view-in-github",
        "colab_type": "text"
      },
      "source": [
        "<a href=\"https://colab.research.google.com/github/Strako/IAProject/blob/main/AND_LogicGate.ipynb\" target=\"_parent\"><img src=\"https://colab.research.google.com/assets/colab-badge.svg\" alt=\"Open In Colab\"/></a>"
      ]
    },
    {
      "cell_type": "code",
      "execution_count": 12,
      "metadata": {
        "colab": {
          "base_uri": "https://localhost:8080/"
        },
        "id": "YJ4f-xmu3jrh",
        "outputId": "8c933854-8a38-4054-c405-e58f95f456c3"
      },
      "outputs": [
        {
          "output_type": "stream",
          "name": "stdout",
          "text": [
            "Values of summation ---   Input:  0  Weight:  3 Bias:  0\n",
            "Values of summation ---   Input:  0  Weight:  -2.5 Bias:  0\n",
            "0\n",
            "Values of summation ---   Input:  0  Weight:  3 Bias:  0\n",
            "Values of summation ---   Input:  0  Weight:  -2.5 Bias:  0\n",
            "0\n",
            "Values of summation ---   Input:  0  Weight:  3 Bias:  -3\n",
            "Values of summation ---   Input:  0  Weight:  -2.5 Bias:  0\n",
            "0\n",
            "Values of summation ---   Input:  0  Weight:  3 Bias:  0\n",
            "Values of summation ---   Input:  0  Weight:  -2.5 Bias:  0\n",
            "1\n"
          ]
        }
      ],
      "source": [
        "import random\n",
        "andBiasA = 0\n",
        "andBiasB = -3\n",
        "w = [3, -2.5]\n",
        "offset= [0,2,4,6]\n",
        "values = [0,0,0,1,1,0,1,1]\n",
        "\n",
        "def linear(input):\n",
        "  if(input > 0 ):\n",
        "    return 1\n",
        "  else:\n",
        "    return 0\n",
        "\n",
        "def summation(values ,w, offset):\n",
        "  result = 0\n",
        "  for i in range(0,2):\n",
        "    if(i == 0 and offset == 4):\n",
        "      result = result + values[i + offset] * w[i] + andBiasB\n",
        "      print(\"Values of summation --- \",\" Input: \",values[i],\" Weight: \", w[i], \"Bias: \",andBiasB )\n",
        "    else:\n",
        "      result = result + values[i + offset] * w[i] + andBiasA\n",
        "      print(\"Values of summation --- \",\" Input: \",values[i],\" Weight: \", w[i], \"Bias: \",andBiasA )\n",
        "  return linear(result)\n",
        "\n",
        "for x in range(0,4):\n",
        "  print(summation(values,w,offset[x]))\n",
        "\n",
        "\n",
        "\n",
        "\n"
      ]
    },
    {
      "cell_type": "code",
      "source": [],
      "metadata": {
        "id": "xwqSN7CM83_e"
      },
      "execution_count": null,
      "outputs": []
    }
  ]
}