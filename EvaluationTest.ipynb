{
  "nbformat": 4,
  "nbformat_minor": 0,
  "metadata": {
    "colab": {
      "provenance": [],
      "authorship_tag": "ABX9TyPKALSKmJ9yP+MWmW+3ggeF",
      "include_colab_link": true
    },
    "kernelspec": {
      "name": "python3",
      "display_name": "Python 3"
    },
    "language_info": {
      "name": "python"
    }
  },
  "cells": [
    {
      "cell_type": "markdown",
      "metadata": {
        "id": "view-in-github",
        "colab_type": "text"
      },
      "source": [
        "<a href=\"https://colab.research.google.com/github/Strako/IAProject/blob/main/EvaluationTest.ipynb\" target=\"_parent\"><img src=\"https://colab.research.google.com/assets/colab-badge.svg\" alt=\"Open In Colab\"/></a>"
      ]
    },
    {
      "cell_type": "code",
      "execution_count": null,
      "metadata": {
        "id": "0yi6hetZXxGH"
      },
      "outputs": [],
      "source": []
    },
    {
      "cell_type": "markdown",
      "source": [
        "Como se declara una lista en python"
      ],
      "metadata": {
        "id": "1o7QIWICY-mj"
      }
    },
    {
      "cell_type": "code",
      "source": [
        "my-list=[1,2,3]"
      ],
      "metadata": {
        "id": "bvcrX_z-Y57n"
      },
      "execution_count": null,
      "outputs": []
    },
    {
      "cell_type": "markdown",
      "source": [
        "Que funcion se usa pra conocer el numero de elementos en una lista?"
      ],
      "metadata": {
        "id": "4rwxYF7uZFPS"
      }
    },
    {
      "cell_type": "code",
      "source": [
        "len()"
      ],
      "metadata": {
        "id": "rylN7GNKZLMv"
      },
      "execution_count": null,
      "outputs": []
    },
    {
      "cell_type": "markdown",
      "source": [
        "Que resultado obtendremos la ejecutar el siguiente codigo?"
      ],
      "metadata": {
        "id": "Z59X3I57ZSS_"
      }
    },
    {
      "cell_type": "code",
      "source": [
        "a = [1,2,3,4,5]\n",
        "print(a[::-1])"
      ],
      "metadata": {
        "id": "_NuUh7OXZSyc"
      },
      "execution_count": null,
      "outputs": []
    },
    {
      "cell_type": "markdown",
      "source": [
        "\n",
        "Cual es el resultado de la siguiente expresion?"
      ],
      "metadata": {
        "id": "LpV-5qawZbS9"
      }
    },
    {
      "cell_type": "code",
      "source": [
        "print(3 * \"5\" + 2)"
      ],
      "metadata": {
        "id": "HhsSqRUkZeIc"
      },
      "execution_count": null,
      "outputs": []
    },
    {
      "cell_type": "markdown",
      "source": [
        "Que salida genera el siguiente codigo?"
      ],
      "metadata": {
        "id": "AWZkTkFCZl0a"
      }
    },
    {
      "cell_type": "code",
      "source": [
        "def foo(x,y=[]):\n",
        "  y.append(x)\n",
        "  return y\n",
        "\n",
        "print(foo(1))\n",
        "print(foo(1,[]))\n",
        "print(foo(3))"
      ],
      "metadata": {
        "id": "Ypu-u_n0Zphn"
      },
      "execution_count": null,
      "outputs": []
    },
    {
      "cell_type": "markdown",
      "source": [
        "Que resultado obtendremos al ejecutar el siguiente codigo?"
      ],
      "metadata": {
        "id": "oGsPucBNZ6oc"
      }
    },
    {
      "cell_type": "code",
      "source": [
        "def multiply_list(numbers,factor):\n",
        "    result=[]\n",
        "    for number in numbers:\n",
        "      result.append(number*factor)\n",
        "    return result\n",
        "\n",
        "my_list=[1,2,3]\n",
        "output = multiply_list(my_list,2)\n",
        "print(outpput)"
      ],
      "metadata": {
        "id": "N0YqyGCcaDJd"
      },
      "execution_count": null,
      "outputs": []
    }
  ]
}