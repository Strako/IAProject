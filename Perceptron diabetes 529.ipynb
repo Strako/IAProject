{
  "nbformat": 4,
  "nbformat_minor": 0,
  "metadata": {
    "colab": {
      "provenance": [],
      "authorship_tag": "ABX9TyOxbfuVPtBiQWX0GM2ccAFZ",
      "include_colab_link": true
    },
    "kernelspec": {
      "name": "python3",
      "display_name": "Python 3"
    },
    "language_info": {
      "name": "python"
    }
  },
  "cells": [
    {
      "cell_type": "markdown",
      "metadata": {
        "id": "view-in-github",
        "colab_type": "text"
      },
      "source": [
        "<a href=\"https://colab.research.google.com/github/Strako/IAProject/blob/main/Perceptron%20diabetes%20529.ipynb\" target=\"_parent\"><img src=\"https://colab.research.google.com/assets/colab-badge.svg\" alt=\"Open In Colab\"/></a>"
      ]
    },
    {
      "cell_type": "code",
      "execution_count": 25,
      "metadata": {
        "colab": {
          "base_uri": "https://localhost:8080/",
          "height": 588
        },
        "id": "1feJzpQPtvNh",
        "outputId": "74766734-c162-4a9d-d221-622607931912"
      },
      "outputs": [
        {
          "output_type": "stream",
          "name": "stdout",
          "text": [
            "Requirement already satisfied: ucimlrepo in /usr/local/lib/python3.10/dist-packages (0.0.7)\n",
            "Requirement already satisfied: pandas>=1.0.0 in /usr/local/lib/python3.10/dist-packages (from ucimlrepo) (2.2.2)\n",
            "Requirement already satisfied: certifi>=2020.12.5 in /usr/local/lib/python3.10/dist-packages (from ucimlrepo) (2024.8.30)\n",
            "Requirement already satisfied: numpy>=1.22.4 in /usr/local/lib/python3.10/dist-packages (from pandas>=1.0.0->ucimlrepo) (1.26.4)\n",
            "Requirement already satisfied: python-dateutil>=2.8.2 in /usr/local/lib/python3.10/dist-packages (from pandas>=1.0.0->ucimlrepo) (2.8.2)\n",
            "Requirement already satisfied: pytz>=2020.1 in /usr/local/lib/python3.10/dist-packages (from pandas>=1.0.0->ucimlrepo) (2024.2)\n",
            "Requirement already satisfied: tzdata>=2022.7 in /usr/local/lib/python3.10/dist-packages (from pandas>=1.0.0->ucimlrepo) (2024.2)\n",
            "Requirement already satisfied: six>=1.5 in /usr/local/lib/python3.10/dist-packages (from python-dateutil>=2.8.2->pandas>=1.0.0->ucimlrepo) (1.16.0)\n"
          ]
        },
        {
          "output_type": "display_data",
          "data": {
            "text/plain": [
              "<Figure size 640x480 with 1 Axes>"
            ],
            "image/png": "[encoded data removed]"
          },
          "metadata": {}
        }
      ],
      "source": [
        "%pip install ucimlrepo\n",
        "\n",
        "import numpy as np\n",
        "import pandas as pd\n",
        "import matplotlib.pyplot as plt\n",
        "from ucimlrepo import fetch_ucirepo\n",
        "\n",
        "early_stage_diabetes_risk_prediction = fetch_ucirepo(id=529)\n",
        "\n",
        "X = early_stage_diabetes_risk_prediction.data.features\n",
        "y = early_stage_diabetes_risk_prediction.data.targets\n",
        "featuresX = []\n",
        "targetsY = np.where(y.values == 'Positive', -1, 1)\n",
        "\n",
        "def process_rows(X, count, offset=0):\n",
        "    features = []\n",
        "\n",
        "    for i in range(count):\n",
        "        row_features = []\n",
        "        row_features.append(X.values[i + offset][0])\n",
        "        for j in range(1, len(X.columns)):\n",
        "            if X.values[i + offset][j] == \"Male\" or X.values[i + offset][j] == \"No\":\n",
        "                row_features.append(0)\n",
        "            else:\n",
        "                row_features.append(1)\n",
        "\n",
        "        features.append(row_features)\n",
        "\n",
        "    return features\n",
        "\n",
        "\n",
        "featuresX += process_rows(X, 30)\n",
        "\n",
        "featuresX += process_rows(X, 30, offset=202)\n",
        "\n",
        "featuresX_array = np.array(featuresX)\n",
        "targetsY_array = np.array(targetsY)\n",
        "\n",
        "\n",
        "class Perceptron(object):\n",
        "    def _init_(self, eta=0.01, n_iter=50, random_state=1):\n",
        "        self.eta = eta\n",
        "        self.n_iter = n_iter\n",
        "        self.random_state = random_state\n",
        "    def fit(self, X, y):\n",
        "      rgen = np.random.RandomState(self.random_state)\n",
        "      self.w = rgen.normal(loc=0.0, scale=0.01, size=1 + X.shape[1])\n",
        "      self.errors_ = []\n",
        "\n",
        "      for _ in range(self.n_iter):\n",
        "          errors = 0\n",
        "          for xi, target in zip(X, y):\n",
        "            update = self.eta * (target - self.predict(xi))\n",
        "            self.w[1:] += update * xi\n",
        "            self.w[0] += update\n",
        "            errors += int(update != 0.0)\n",
        "          self.errors_.append(errors)\n",
        "      return self\n",
        "\n",
        "    def net_input(self, X):\n",
        "        return np.dot(X, self.w_[1:]) + self.w_[0]\n",
        "    def predict(self, X):\n",
        "        return np.where(self.net_input(X) >= 0.0, 1, -1)\n",
        "\n",
        "v1 = np.array([1, 2, 3])\n",
        "v2 = 0.5 * v1\n",
        "np.arccos(v1.dot(v2) / (np.linalg.norm(v1) * np.linalg.norm(v2)))\n",
        "\n",
        "plt.scatter(featuresX_array[:30, 0], featuresX_array[:30, 10],\n",
        "            color='red', marker='o', label='Positive diabetes')\n",
        "plt.scatter(featuresX_array[30:60, 0], featuresX_array[30:60, 10],\n",
        "            color='blue', marker='x', label='Negative diabetes')\n",
        "\n",
        "\n",
        "\n",
        "plt.xlabel('Age')\n",
        "plt.ylabel('Irritability')\n",
        "plt.legend(loc='upper left')\n",
        "plt.show()\n"
      ]
    },
    {
      "cell_type": "code",
      "source": [],
      "metadata": {
        "id": "3Z0qq2jyADma"
      },
      "execution_count": null,
      "outputs": []
    }
  ]
}